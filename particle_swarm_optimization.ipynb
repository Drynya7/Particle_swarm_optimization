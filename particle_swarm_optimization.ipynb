{
  "nbformat": 4,
  "nbformat_minor": 0,
  "metadata": {
    "colab": {
      "provenance": [],
      "authorship_tag": "ABX9TyPuz0gJ01PcSOBQp/3TPAnI",
      "include_colab_link": true
    },
    "kernelspec": {
      "name": "python3",
      "display_name": "Python 3"
    },
    "language_info": {
      "name": "python"
    }
  },
  "cells": [
    {
      "cell_type": "markdown",
      "metadata": {
        "id": "view-in-github",
        "colab_type": "text"
      },
      "source": [
        "<a href=\"https://colab.research.google.com/github/Drynya7/Particle_swarm_optimization/blob/main/particle_swarm_optimization.ipynb\" target=\"_parent\"><img src=\"https://colab.research.google.com/assets/colab-badge.svg\" alt=\"Open In Colab\"/></a>"
      ]
    },
    {
      "cell_type": "code",
      "execution_count": 1,
      "metadata": {
        "id": "wRLApxek5MPV"
      },
      "outputs": [],
      "source": [
        "import numpy as np\n",
        "import math as m\n",
        "import matplotlib.pyplot as plt"
      ]
    },
    {
      "cell_type": "code",
      "source": [
        "def InputF():\n",
        "    n = int(input(\"Степень функции: \"))\n",
        "    K = [0]*(n+1)\n",
        "    st = ''\n",
        "    for i in range(n,-1,-1):\n",
        "        if i == 0: st = st + \"K_\" + str(i)\n",
        "        elif i==n: st = st + \"K_\" + str(i) + \"*x^\" + str(i) + \"+\"\n",
        "        else: st = st + \"K_\" + str(i) + \"*x^\" + str(i) + \"+\"\n",
        "    print(st)\n",
        "    for i in range(n+1):\n",
        "        K[i] = int(input(\"Введите K_\"+str(i)+\": \"))\n",
        "    return K"
      ],
      "metadata": {
        "id": "EM1bVoM6DqRy"
      },
      "execution_count": 4,
      "outputs": []
    },
    {
      "cell_type": "code",
      "source": [
        "class Agent:\n",
        "  def __init__(self,K,left_b,right_b,al=0.5,be=0.3,ga=0.3):\n",
        "    self.V = np.random.random()\n",
        "    self.al = al\n",
        "    self.be = be\n",
        "    self.ga = ga\n",
        "    self.x = self.P = np.random.uniform(left_b,right_b)\n",
        "    self.r = 0\n",
        "    self.e = 0\n",
        "    self.y = 0\n",
        "    self.y_P = 0\n",
        "    self.K = K\n",
        "\n",
        "  def Check_min_P(self):\n",
        "    d = len(self.K)\n",
        "    self.y = 0\n",
        "    self.y_P = 0\n",
        "    for i in range(d):\n",
        "            self.y = self.y + self.K[i]*self.x**i\n",
        "            self.y_P = self.y_P + self.K[i]*self.P**i\n",
        "    if self.y<self.y_P:\n",
        "      self.P = self.x\n",
        "\n",
        "  def X_edit(self,Z):\n",
        "    self.r = np.random.random()\n",
        "    self.e = np.random.random()\n",
        "    self.V = self.al*self.V + self.be*self.r*(self.P - self.x) + self.ga*self.e*(Z - self.x)\n",
        "    self.x = self.x + self.V\n",
        "    self.Check_min_P()\n",
        "\n",
        "  def R_P(self):\n",
        "    self.Check_min_P()\n",
        "    return self.P, self.y_P"
      ],
      "metadata": {
        "id": "xOikJST4Csft"
      },
      "execution_count": 5,
      "outputs": []
    },
    {
      "cell_type": "code",
      "source": [
        "def Check_min_Z(K,P,P_mas,Z,y_Z):\n",
        "    d = len(P_mas)\n",
        "    for i in range(d):\n",
        "      if P_mas[i]<y_Z:\n",
        "        y_Z = P_mas[i]\n",
        "        Z = P[i]\n",
        "    return Z, y_Z"
      ],
      "metadata": {
        "id": "WzuyJi9SIAql"
      },
      "execution_count": 6,
      "outputs": []
    },
    {
      "cell_type": "code",
      "source": [
        "def Plt(K,B,E,x_m=None,y_m=None):\n",
        "    l = abs(B)+abs(E)\n",
        "    X = list(range(B,E))\n",
        "    Y = [0]*l\n",
        "    d = len(K)\n",
        "    for i in range(l):\n",
        "        Y[i]=0\n",
        "        for j in range(d):\n",
        "            Y[i] = Y[i] + K[j]*X[i]**j\n",
        "    plt.plot(X,Y,'r--')\n",
        "    plt.scatter(x_m,y_m)"
      ],
      "metadata": {
        "id": "h3J-C2gfOy-C"
      },
      "execution_count": 7,
      "outputs": []
    },
    {
      "cell_type": "code",
      "source": [
        "def PSO(K,k=5,ep=100,left_b=-10,right_b=10):\n",
        "  Ag = []\n",
        "  y_P = [0]*k\n",
        "  P = [0]*5\n",
        "  y_Z = 1000\n",
        "  Z = 1000\n",
        "  for i in range(k):\n",
        "    Ag.append(Agent(K=K,left_b=left_b,right_b=right_b))\n",
        "    P[i],y_P[i] = Ag[i].R_P()\n",
        "  \n",
        "  while ep!=0:\n",
        "    ep -= 1\n",
        "    Z, y_Z = Check_min_Z(K,P,y_P,Z,y_Z)\n",
        "    for i in range(k):\n",
        "      Ag[i].X_edit(Z)\n",
        "      P[i],y_P[i] = Ag[i].R_P()\n",
        "    Plt(K,left_b,right_b,P,y_P)\n",
        "  print(Z,y_Z)\n",
        "  plt.show()\n",
        "\n"
      ],
      "metadata": {
        "id": "B6pB1eb6Cfs4"
      },
      "execution_count": 8,
      "outputs": []
    },
    {
      "cell_type": "code",
      "source": [
        "K=InputF()\n",
        "PSO(K)"
      ],
      "metadata": {
        "colab": {
          "base_uri": "https://localhost:8080/",
          "height": 369
        },
        "id": "_7_illd2NZCv",
        "outputId": "f27fb0ed-775d-4eaa-ebd8-91f079ebfc02"
      },
      "execution_count": 9,
      "outputs": [
        {
          "output_type": "stream",
          "name": "stdout",
          "text": [
            "Степень функции: 2\n",
            "K_2*x^2+K_1*x^1+K_0\n",
            "Введите K_0: 1\n",
            "Введите K_1: 1\n",
            "Введите K_2: 1\n",
            "-0.4999999965805901 0.75\n"
          ]
        },
        {
          "output_type": "display_data",
          "data": {
            "text/plain": [
              "<Figure size 432x288 with 1 Axes>"
            ],
            "image/png": "[encoded data removed]"
          },
          "metadata": {
            "needs_background": "light"
          }
        }
      ]
    }
  ]
}